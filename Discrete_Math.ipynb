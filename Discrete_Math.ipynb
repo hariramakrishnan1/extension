{
  "nbformat": 4,
  "nbformat_minor": 0,
  "metadata": {
    "colab": {
      "provenance": [],
      "include_colab_link": true
    },
    "kernelspec": {
      "name": "python3",
      "display_name": "Python 3"
    },
    "language_info": {
      "name": "python"
    }
  },
  "cells": [
    {
      "cell_type": "markdown",
      "metadata": {
        "id": "view-in-github",
        "colab_type": "text"
      },
      "source": [
        "<a href=\"https://colab.research.google.com/github/hariramakrishnan1/extension/blob/master/Discrete_Math.ipynb\" target=\"_parent\"><img src=\"https://colab.research.google.com/assets/colab-badge.svg\" alt=\"Open In Colab\"/></a>"
      ]
    },
    {
      "cell_type": "code",
      "source": [
        "def generate_truth_table(expression_string = \"\"):\n",
        "  global x\n",
        "  temp_x = x.copy()\n",
        "\n",
        "  print(f'{\" | \".join(key for key in x.keys()) + \" | \" + expression_string}\\n{\"--\" + \"|---\" * (len(x) - 1) + \"|---\"}')\n",
        "  for i in range(2 ** len(x) - 1, -1, -1):\n",
        "    value_string = bin(i)[2:].rjust(len(x), \"0\")\n",
        "    value_list = \" | \".join([\"T\" if value == \"1\" else \"F\" for value in value_string]) + \" |\"\n",
        "    print(value_list, statement_value(value_string) + f'\\n{\"--\" + \"|---\" * (len(x) - 1) + \"|---\"}')\n",
        "  x = temp_x\n",
        "\n",
        "def statement_value(y):\n",
        "  i = 0\n",
        "  for key in x.keys():\n",
        "   x[key] = bool(int(y[i]))\n",
        "   globals()[key] = x[key]\n",
        "   i += 1\n",
        "  return [\"F\", \"T\"][int(statement())]\n",
        "\n",
        "class gen_operator:\n",
        "  def __init__(self, function):\n",
        "    self.function = function\n",
        "    self.value = None\n",
        "  def __or__(self,other):\n",
        "    return self.function(self.value, other)\n",
        "  def __ror__(self,other):\n",
        "    self.value = other\n",
        "    return self\n",
        "\n",
        "def implies_relation(x, y):\n",
        "  if((type(x) is bool) and type(x) is bool):\n",
        "    return not x or y\n",
        "  else:\n",
        "    raise TypeError(\"Only accepts booleans\")\n",
        "\n",
        "def biconditional_relation(x, y):\n",
        "  if((type(x) is bool) and type(x) is bool):\n",
        "    return implies_relation(x,y) and implies_relation(y,x)\n",
        "  else:\n",
        "    raise TypeError(\"Only accepts booleans\")\n",
        "\n",
        "def exclusive_or_relation(x, y):\n",
        "  if((type(x) is bool) and type(x) is bool):\n",
        "    return not (x and y) and (x or y)\n",
        "  else:\n",
        "    raise TypeError(\"Only accepts booleans\")\n",
        "\n",
        "implies = gen_operator(implies_relation)\n",
        "biconditional = gen_operator(biconditional_relation)\n",
        "exclusive_or = gen_operator(exclusive_or_relation)\n"
      ],
      "metadata": {
        "id": "rT33hb6m9sQj"
      },
      "execution_count": 51,
      "outputs": []
    },
    {
      "cell_type": "code",
      "source": [
        "# create shortcuts for each relation\n",
        "imp = implies\n",
        "bic = biconditional\n",
        "xor = exclusive_or\n",
        "\n",
        "# create dictionary with variable names as key and a boolean as value\n",
        "# any size\n",
        "x = {\n",
        "    \"p\": True,\n",
        "    \"q\" : True,\n",
        "    \"r\" : False\n",
        "    }\n",
        "\n",
        "for key in x.keys(): # allows you to use p and q as standalone variables instead of x['q']\n",
        "  globals()[key] = x[key]\n",
        "\n",
        "# calling generate_truth_table(optional_string) will generate truth table\n",
        "# and have the string as the visual statement used for the truth table\n",
        "# print(statement()) will print the truth value with the specific values given\n",
        "# in the dictionary\n",
        "\n",
        "# use p |relation| q syntax to define your statement\n",
        "\n",
        "def statement():\n",
        "  return p |xor| q |imp| r\n",
        "\n",
        "\n",
        "print(statement())\n",
        "\n",
        "generate_truth_table(\"(p \\u2295 q) \\u2192 r\")\n"
      ],
      "metadata": {
        "colab": {
          "base_uri": "https://localhost:8080/"
        },
        "id": "_YnvlZiaIbDY",
        "outputId": "23af0ca3-5c5f-423f-f575-cf986b15d98b"
      },
      "execution_count": 61,
      "outputs": [
        {
          "output_type": "stream",
          "name": "stdout",
          "text": [
            "True\n",
            "p | q | r | (p ⊕ q) → r\n",
            "--|---|---|---\n",
            "T | T | T | T\n",
            "--|---|---|---\n",
            "T | T | F | T\n",
            "--|---|---|---\n",
            "T | F | T | T\n",
            "--|---|---|---\n",
            "T | F | F | F\n",
            "--|---|---|---\n",
            "F | T | T | T\n",
            "--|---|---|---\n",
            "F | T | F | F\n",
            "--|---|---|---\n",
            "F | F | T | T\n",
            "--|---|---|---\n",
            "F | F | F | T\n",
            "--|---|---|---\n"
          ]
        }
      ]
    }
  ]
}